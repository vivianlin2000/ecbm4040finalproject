{
 "cells": [
  {
   "cell_type": "code",
   "execution_count": 1,
   "id": "6e8555a6",
   "metadata": {},
   "outputs": [],
   "source": [
    "import model_utils, train"
   ]
  },
  {
   "cell_type": "code",
   "execution_count": 2,
   "id": "b3edde95",
   "metadata": {},
   "outputs": [],
   "source": [
    "from model_utils import get_model, generate_model_configs\n",
    "from train import train_model"
   ]
  },
  {
   "cell_type": "code",
   "execution_count": 3,
   "id": "a7bfe453",
   "metadata": {},
   "outputs": [],
   "source": [
    "\n",
    "User_Configs = {\n",
    "    # Choose pretrained as None, or one of \"mlp_mixer_b16_imagenet\", \"mlp_mixer_l16_imagenet\", \"mlp_mixer_b16_imagenet21k\", or \"mlp_mixer_l16_imagenet21k\"\n",
    "    'pretrained': None,\n",
    "    \n",
    "    # choose model name as \n",
    "    # (a). One of \"b16\" / \"l16\" corresponding to pretrained model, or \n",
    "    # (b). One of b16/l16/s16/b32/l32/s32 if training from Scratch.\n",
    "    # (c). None if loading a local model file\n",
    "    'model_name': \"b16\",\n",
    "    \n",
    "    # dataset_name should be one of \"cifar10\", \"pets\", or tiny-imagenet\"\n",
    "    'dataset_name': 'cifar10',\n",
    "    \n",
    "    # You can choose to not have activation in the first layer (linear projection), or else relu works well.\n",
    "    'initial_activation': 'relu',\n",
    "    \n",
    "    # If you wish to reload a trained model for further training or testing, supply local path.\n",
    "    'local_model_path': None,\n",
    "    \n",
    "    # Set Learning Rate. 0.001-0.01 works best. Set low if finetuning.\n",
    "    'learning_rate': 0.001,\n",
    "    \n",
    "    # (Relevant if Pretrained) Select only Top layer to be unfrozen by saying \"top\", or None for all unfrozen. \n",
    "    'trainable_layers': 'top',\n",
    "    \n",
    "    # Number of epochs to run training. About 10-20 epochs take roughly 1-3 hours on most models.\n",
    "    'num_epochs': 2,\n",
    "    \n",
    "    # Optimizer to use. select \"Adam\" or \"SGD\", or any other.\n",
    "    'optimizer_name': 'Adam',\n",
    "    \n",
    "    # (Relevant if SGD) Momentum and decay if using SGD\n",
    "    'momentum': 0.9,\n",
    "    'decay': 0.001,\n",
    "    \n",
    "    # Select Batch Size. 32 works well.\n",
    "    'batch_size': 32,\n",
    "    \n",
    "    # Dropout for last layer and DropConnect for Mixer layers.\n",
    "    'dropout': 0,\n",
    "    'drop_connect_rate': 0,\n",
    "    \n",
    "    # Augmenting images during training. A combination of flipping, rotation, shears, zooms will be applied.\n",
    "    \"train_augmentation\" : True\n",
    "}"
   ]
  },
  {
   "cell_type": "code",
   "execution_count": 4,
   "id": "3f2359aa",
   "metadata": {},
   "outputs": [
    {
     "name": "stdout",
     "output_type": "stream",
     "text": [
      "Here are the Final configurations : \n",
      "\n",
      "pretrained = None\n",
      "model_name = None\n",
      "dataset_name = cifar10\n",
      "initial_activation = relu\n",
      "local_model_path = None\n",
      "learning_rate = 0.001\n",
      "trainable_layers = top\n",
      "num_epochs = 2\n",
      "momentum = 0.9\n",
      "decay = 0.001\n",
      "optimizer_name = Adam\n",
      "cosine_decay = False\n",
      "batch_size = 32\n",
      "dropout = 0\n",
      "drop_connect_rate = 0\n",
      "train_augmentation = True\n"
     ]
    }
   ],
   "source": [
    "configs = generate_model_configs()\n",
    "configs.update(User_Configs)\n",
    "print(\"Here are the Final configurations : \\n\")\n",
    "for key, value in configs.items():\n",
    "    print(key, \"=\", value)"
   ]
  },
  {
   "cell_type": "code",
   "execution_count": 5,
   "id": "fa6c2753",
   "metadata": {},
   "outputs": [
    {
     "ename": "KeyError",
     "evalue": "None",
     "output_type": "error",
     "traceback": [
      "\u001b[0;31m---------------------------------------------------------------------------\u001b[0m",
      "\u001b[0;31mKeyError\u001b[0m                                  Traceback (most recent call last)",
      "\u001b[0;32m<ipython-input-5-3d165709f481>\u001b[0m in \u001b[0;36m<module>\u001b[0;34m\u001b[0m\n\u001b[1;32m      1\u001b[0m \u001b[0;31m## Getting the model object out for inspection\u001b[0m\u001b[0;34m\u001b[0m\u001b[0;34m\u001b[0m\u001b[0;34m\u001b[0m\u001b[0m\n\u001b[0;32m----> 2\u001b[0;31m \u001b[0mmodel\u001b[0m \u001b[0;34m=\u001b[0m \u001b[0mget_model\u001b[0m\u001b[0;34m(\u001b[0m\u001b[0mconfigs\u001b[0m\u001b[0;34m)\u001b[0m\u001b[0;34m\u001b[0m\u001b[0;34m\u001b[0m\u001b[0m\n\u001b[0m",
      "\u001b[0;32m~/NNDL_project/ecbm4040finalproject/model_utils.py\u001b[0m in \u001b[0;36mget_model\u001b[0;34m(configs)\u001b[0m\n\u001b[1;32m     87\u001b[0m     \u001b[0;32mif\u001b[0m \u001b[0;32mnot\u001b[0m \u001b[0mlocal_model\u001b[0m\u001b[0;34m:\u001b[0m\u001b[0;34m\u001b[0m\u001b[0;34m\u001b[0m\u001b[0m\n\u001b[1;32m     88\u001b[0m         num_blocks, patch_size, stem_width, tokens_mlp_dim, channels_mlp_dim = get_model_architecture(\n\u001b[0;32m---> 89\u001b[0;31m             configs[\"model_name\"]).values()\n\u001b[0m\u001b[1;32m     90\u001b[0m \u001b[0;34m\u001b[0m\u001b[0m\n\u001b[1;32m     91\u001b[0m         model = MLPMixer(\n",
      "\u001b[0;32m~/NNDL_project/ecbm4040finalproject/model_utils.py\u001b[0m in \u001b[0;36mget_model_architecture\u001b[0;34m(model_name)\u001b[0m\n\u001b[1;32m     56\u001b[0m     }\n\u001b[1;32m     57\u001b[0m \u001b[0;34m\u001b[0m\u001b[0m\n\u001b[0;32m---> 58\u001b[0;31m     \u001b[0;32mreturn\u001b[0m \u001b[0mMODEL_CONFIGS\u001b[0m\u001b[0;34m[\u001b[0m\u001b[0mmodel_name\u001b[0m\u001b[0;34m]\u001b[0m\u001b[0;34m\u001b[0m\u001b[0;34m\u001b[0m\u001b[0m\n\u001b[0m\u001b[1;32m     59\u001b[0m \u001b[0;34m\u001b[0m\u001b[0m\n\u001b[1;32m     60\u001b[0m \u001b[0;34m\u001b[0m\u001b[0m\n",
      "\u001b[0;31mKeyError\u001b[0m: None"
     ]
    }
   ],
   "source": [
    "## Getting the model object out for inspection\n",
    "model = get_model(configs)"
   ]
  },
  {
   "cell_type": "code",
   "execution_count": null,
   "id": "4646bca3",
   "metadata": {},
   "outputs": [],
   "source": [
    "train_model(model, configs)"
   ]
  },
  {
   "cell_type": "code",
   "execution_count": null,
   "id": "8a896f07",
   "metadata": {},
   "outputs": [],
   "source": [
    "# import zipfile\n",
    "\n",
    "# with zipfile.ZipFile(\"../Datasets/tiny-imagenet-200.zip\", 'r') as zip_ref:\n",
    "#     zip_ref.extractall(\"../Datasets/\")"
   ]
  }
 ],
 "metadata": {
  "kernelspec": {
   "display_name": "Python 3",
   "language": "python",
   "name": "python3"
  },
  "language_info": {
   "codemirror_mode": {
    "name": "ipython",
    "version": 3
   },
   "file_extension": ".py",
   "mimetype": "text/x-python",
   "name": "python",
   "nbconvert_exporter": "python",
   "pygments_lexer": "ipython3",
   "version": "3.6.9"
  }
 },
 "nbformat": 4,
 "nbformat_minor": 5
}
