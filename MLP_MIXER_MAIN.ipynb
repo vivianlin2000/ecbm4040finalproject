{
 "cells": [
  {
   "cell_type": "code",
   "execution_count": null,
   "id": "6e8555a6",
   "metadata": {},
   "outputs": [],
   "source": [
    "import model_utils, train"
   ]
  },
  {
   "cell_type": "code",
   "execution_count": null,
   "id": "b3edde95",
   "metadata": {},
   "outputs": [],
   "source": [
    "from model_utils import get_model, generate_model_configs\n",
    "from train import train_model"
   ]
  },
  {
   "cell_type": "code",
   "execution_count": null,
   "id": "a7bfe453",
   "metadata": {},
   "outputs": [],
   "source": [
    "\n",
    "User_Configs = {\n",
    "    # Choose pretrained as None, or one of \"mlp_mixer_b16_imagenet\", \"mlp_mixer_l16_imagenet\", \"mlp_mixer_b16_imagenet21k\", or \"mlp_mixer_l16_imagenet21k\"\n",
    "    'pretrained': None,\n",
    "    \n",
    "    # choose model name as \n",
    "    # (a). One of \"b16\" / \"l16\" corresponding to pretrained model, or \n",
    "    # (b). One of b16/l16/s16/b32/l32/s32 if training from Scratch.\n",
    "    # (c). None if loading a local model file\n",
    "    'model_name': \"s16\",\n",
    "    \n",
    "    # dataset_name should be one of \"cifar10\", \"pets\", or tiny-imagenet\"\n",
    "    'dataset_name': 'cifar10',\n",
    "    \n",
    "    # You can choose to not have activation in the first layer (linear projection), or else relu works well.\n",
    "    'initial_activation': 'relu',\n",
    "    \n",
    "    # If you wish to reload a trained model for further training or testing, supply local path.\n",
    "    'local_model_path': None,\n",
    "    \n",
    "    # Set Learning Rate. 0.001-0.01 works best. Set low if finetuning.\n",
    "    'learning_rate': 0.001,\n",
    "    \n",
    "    # (Relevant if Pretrained) Select only Top layer to be unfrozen by saying \"top\", or None for all unfrozen. \n",
    "    'trainable_layers': 'top',\n",
    "    \n",
    "    # Number of epochs to run training. About 10-20 epochs take roughly 1-3 hours on most models.\n",
    "    'num_epochs': 1,\n",
    "    \n",
    "    # Optimizer to use. select \"Adam\" or \"SGD\", or any other.\n",
    "    'optimizer_name': 'Adam',\n",
    "    \n",
    "    # (Relevant if SGD) Momentum and decay if using SGD\n",
    "    'momentum': 0.9,\n",
    "    'decay': 0.001,\n",
    "    \n",
    "    # Select Batch Size. 32 works well.\n",
    "    'batch_size': 32,\n",
    "    \n",
    "    # Dropout for last layer and DropConnect for Mixer layers.\n",
    "    'dropout': 0,\n",
    "    'drop_connect_rate': 0,\n",
    "    \n",
    "    # Augmenting images during training. A combination of flipping, rotation, shears, zooms will be applied.\n",
    "    \"train_augmentation\" : True\n",
    "}"
   ]
  },
  {
   "cell_type": "code",
   "execution_count": null,
   "id": "3f2359aa",
   "metadata": {},
   "outputs": [],
   "source": [
    "configs = generate_model_configs()\n",
    "configs.update(User_Configs)\n",
    "print(\"Here are the Final configurations : \\n\")\n",
    "for key, value in configs.items():\n",
    "    print(key, \"=\", value)"
   ]
  },
  {
   "cell_type": "code",
   "execution_count": null,
   "id": "fa6c2753",
   "metadata": {},
   "outputs": [],
   "source": [
    "## Getting the model object out for inspection\n",
    "model = get_model(configs)"
   ]
  },
  {
   "cell_type": "code",
   "execution_count": null,
   "id": "4646bca3",
   "metadata": {},
   "outputs": [],
   "source": [
    "train_model(model, configs)"
   ]
  },
  {
   "cell_type": "code",
   "execution_count": null,
   "id": "b0d2fc3c",
   "metadata": {},
   "outputs": [],
   "source": []
  }
 ],
 "metadata": {
  "kernelspec": {
   "display_name": "Python 3",
   "language": "python",
   "name": "python3"
  },
  "language_info": {
   "codemirror_mode": {
    "name": "ipython",
    "version": 3
   },
   "file_extension": ".py",
   "mimetype": "text/x-python",
   "name": "python",
   "nbconvert_exporter": "python",
   "pygments_lexer": "ipython3",
   "version": "3.6.9"
  }
 },
 "nbformat": 4,
 "nbformat_minor": 5
}
